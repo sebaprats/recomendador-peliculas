{
 "cells": [
  {
   "cell_type": "code",
   "execution_count": 17,
   "metadata": {},
   "outputs": [],
   "source": [
    "import numpy as np\n",
    "import pandas as pd\n",
    "from sklearn.linear_model import LinearRegression\n",
    "from collections import Counter\n",
    "from random import randint\n",
    "\n",
    "\n"
   ]
  },
  {
   "cell_type": "code",
   "execution_count": 24,
   "metadata": {},
   "outputs": [],
   "source": [
    "movies_nan = pd.read_csv(r'C:\\Users\\User\\Documents\\Henry\\DataScience\\Primer_Proyecto\\dataset\\movies_dataset_produccion.csv', low_memory=False)"
   ]
  },
  {
   "cell_type": "code",
   "execution_count": 25,
   "metadata": {},
   "outputs": [],
   "source": [
    "df = pd.DataFrame(movies_nan)"
   ]
  },
  {
   "cell_type": "code",
   "execution_count": 26,
   "metadata": {},
   "outputs": [
    {
     "name": "stdout",
     "output_type": "stream",
     "text": [
      "adult               0\n",
      "id                  0\n",
      "overview            0\n",
      "popularity          0\n",
      "title               0\n",
      "vote_average        0\n",
      "vote_count          0\n",
      "release_year        0\n",
      "release_month       0\n",
      "genre               0\n",
      "country             0\n",
      "principal_cast    888\n",
      "director          896\n",
      "dtype: int64\n"
     ]
    }
   ],
   "source": [
    "# Supongamos que df es tu DataFrame\n",
    "print(df.isna().sum())  # Esto te mostrará cuántos valores NaN hay en cada columna"
   ]
  },
  {
   "cell_type": "code",
   "execution_count": 21,
   "metadata": {},
   "outputs": [
    {
     "name": "stderr",
     "output_type": "stream",
     "text": [
      "C:\\Users\\User\\AppData\\Local\\Temp\\ipykernel_14904\\2545764282.py:1: FutureWarning: A value is trying to be set on a copy of a DataFrame or Series through chained assignment using an inplace method.\n",
      "The behavior will change in pandas 3.0. This inplace method will never work because the intermediate object on which we are setting values always behaves as a copy.\n",
      "\n",
      "For example, when doing 'df[col].method(value, inplace=True)', try using 'df.method({col: value}, inplace=True)' or df[col] = df[col].method(value) instead, to perform the operation inplace on the original object.\n",
      "\n",
      "\n",
      "  df['overview'].fillna('Sin info', inplace=True)\n",
      "C:\\Users\\User\\AppData\\Local\\Temp\\ipykernel_14904\\2545764282.py:2: FutureWarning: A value is trying to be set on a copy of a DataFrame or Series through chained assignment using an inplace method.\n",
      "The behavior will change in pandas 3.0. This inplace method will never work because the intermediate object on which we are setting values always behaves as a copy.\n",
      "\n",
      "For example, when doing 'df[col].method(value, inplace=True)', try using 'df.method({col: value}, inplace=True)' or df[col] = df[col].method(value) instead, to perform the operation inplace on the original object.\n",
      "\n",
      "\n",
      "  df['genre'].fillna('Sin info', inplace=True)\n",
      "C:\\Users\\User\\AppData\\Local\\Temp\\ipykernel_14904\\2545764282.py:3: FutureWarning: A value is trying to be set on a copy of a DataFrame or Series through chained assignment using an inplace method.\n",
      "The behavior will change in pandas 3.0. This inplace method will never work because the intermediate object on which we are setting values always behaves as a copy.\n",
      "\n",
      "For example, when doing 'df[col].method(value, inplace=True)', try using 'df.method({col: value}, inplace=True)' or df[col] = df[col].method(value) instead, to perform the operation inplace on the original object.\n",
      "\n",
      "\n",
      "  df['country'].fillna('Sin info', inplace=True)\n"
     ]
    }
   ],
   "source": [
    "df['overview'].fillna('Sin info', inplace=True)\n",
    "df['genre'].fillna('Sin info', inplace=True)\n",
    "df['country'].fillna('Sin info', inplace=True)\n"
   ]
  },
  {
   "cell_type": "code",
   "execution_count": 22,
   "metadata": {},
   "outputs": [
    {
     "name": "stdout",
     "output_type": "stream",
     "text": [
      "adult               0\n",
      "id                  0\n",
      "overview            0\n",
      "popularity          0\n",
      "title               0\n",
      "vote_average        0\n",
      "vote_count          0\n",
      "release_year        0\n",
      "release_month       0\n",
      "genre               0\n",
      "country             0\n",
      "principal_cast    888\n",
      "director          896\n",
      "dtype: int64\n"
     ]
    }
   ],
   "source": [
    "# Supongamos que df es tu DataFrame\n",
    "print(df.isna().sum())  # Esto te mostrará cuántos valores NaN hay en cada columna"
   ]
  },
  {
   "cell_type": "code",
   "execution_count": 23,
   "metadata": {},
   "outputs": [],
   "source": [
    "df.to_csv('movies_dataset_produccion.csv', index=False)"
   ]
  }
 ],
 "metadata": {
  "kernelspec": {
   "display_name": "primer-env",
   "language": "python",
   "name": "python3"
  },
  "language_info": {
   "codemirror_mode": {
    "name": "ipython",
    "version": 3
   },
   "file_extension": ".py",
   "mimetype": "text/x-python",
   "name": "python",
   "nbconvert_exporter": "python",
   "pygments_lexer": "ipython3",
   "version": "3.12.6"
  }
 },
 "nbformat": 4,
 "nbformat_minor": 2
}

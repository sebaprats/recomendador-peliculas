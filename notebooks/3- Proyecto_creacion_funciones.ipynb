{
 "cells": [
  {
   "cell_type": "code",
   "execution_count": 1,
   "metadata": {},
   "outputs": [],
   "source": [
    "import numpy as np\n",
    "import pandas as pd\n",
    "import matplotlib.pyplot as plt\n",
    "import seaborn as sns\n",
    "import json\n",
    "sns.set()"
   ]
  },
  {
   "cell_type": "markdown",
   "metadata": {},
   "source": [
    "### CREACIÓN DE FUNCIONES\n"
   ]
  },
  {
   "cell_type": "markdown",
   "metadata": {},
   "source": [
    "##### FUNCIÓN CANTIDAD PELÍCULAS POR MES\n",
    "\n",
    "Creo la función def cantidad_filmaciones_mes( Mes )\n",
    "\n",
    "Se ingresa un mes en idioma Español. \n",
    "\n",
    "Debe devolver la cantidad de películas que fueron estrenadas en el mes consultado en la totalidad del dataset.\n",
    "\n",
    "Ejemplo de retorno: X cantidad de películas fueron estrenadas en el mes de X\n"
   ]
  },
  {
   "cell_type": "code",
   "execution_count": 2,
   "metadata": {},
   "outputs": [
    {
     "name": "stderr",
     "output_type": "stream",
     "text": [
      "<>:3: SyntaxWarning: invalid escape sequence '\\D'\n",
      "<>:3: SyntaxWarning: invalid escape sequence '\\D'\n",
      "C:\\Users\\User\\AppData\\Local\\Temp\\ipykernel_3020\\3827214167.py:3: SyntaxWarning: invalid escape sequence '\\D'\n",
      "  data_movies_produccion = pd.read_csv('.\\Datasets\\movies_dataset_produccion.csv')\n"
     ]
    }
   ],
   "source": [
    "# Levanto el csv de producción y lo convierto en dataframe\n",
    "\n",
    "data_movies_produccion = pd.read_csv('.\\Datasets\\movies_dataset_produccion.csv')\n",
    "df_movies_produccion = pd.DataFrame(data_movies_produccion)"
   ]
  },
  {
   "cell_type": "code",
   "execution_count": 3,
   "metadata": {},
   "outputs": [
    {
     "data": {
      "text/html": [
       "<div>\n",
       "<style scoped>\n",
       "    .dataframe tbody tr th:only-of-type {\n",
       "        vertical-align: middle;\n",
       "    }\n",
       "\n",
       "    .dataframe tbody tr th {\n",
       "        vertical-align: top;\n",
       "    }\n",
       "\n",
       "    .dataframe thead th {\n",
       "        text-align: right;\n",
       "    }\n",
       "</style>\n",
       "<table border=\"1\" class=\"dataframe\">\n",
       "  <thead>\n",
       "    <tr style=\"text-align: right;\">\n",
       "      <th></th>\n",
       "      <th>adult</th>\n",
       "      <th>id</th>\n",
       "      <th>overview</th>\n",
       "      <th>popularity</th>\n",
       "      <th>title</th>\n",
       "      <th>vote_average</th>\n",
       "      <th>vote_count</th>\n",
       "      <th>release_year</th>\n",
       "      <th>release_month</th>\n",
       "      <th>genre</th>\n",
       "      <th>country</th>\n",
       "      <th>principal_cast</th>\n",
       "      <th>director</th>\n",
       "    </tr>\n",
       "  </thead>\n",
       "  <tbody>\n",
       "    <tr>\n",
       "      <th>0</th>\n",
       "      <td>False</td>\n",
       "      <td>55475</td>\n",
       "      <td>Balbuena is a genial illegal immigrant who mak...</td>\n",
       "      <td>0.291021</td>\n",
       "      <td>Nueba Yol</td>\n",
       "      <td>5.5</td>\n",
       "      <td>1.0</td>\n",
       "      <td>1995</td>\n",
       "      <td>8</td>\n",
       "      <td>Comedy</td>\n",
       "      <td>Dominican Republic</td>\n",
       "      <td>NaN</td>\n",
       "      <td>Ángel Muñiz</td>\n",
       "    </tr>\n",
       "    <tr>\n",
       "      <th>1</th>\n",
       "      <td>False</td>\n",
       "      <td>18183</td>\n",
       "      <td>Tita is passionately in love with Pedro, but h...</td>\n",
       "      <td>4.126083</td>\n",
       "      <td>Like Water for Chocolate</td>\n",
       "      <td>6.6</td>\n",
       "      <td>70.0</td>\n",
       "      <td>1992</td>\n",
       "      <td>4</td>\n",
       "      <td>Drama</td>\n",
       "      <td>Mexico</td>\n",
       "      <td>NaN</td>\n",
       "      <td>NaN</td>\n",
       "    </tr>\n",
       "    <tr>\n",
       "      <th>2</th>\n",
       "      <td>False</td>\n",
       "      <td>12527</td>\n",
       "      <td>Havana, Cuba, 1979. Flamboyantly gay artist Di...</td>\n",
       "      <td>1.777197</td>\n",
       "      <td>Strawberry and Chocolate</td>\n",
       "      <td>7.1</td>\n",
       "      <td>16.0</td>\n",
       "      <td>1993</td>\n",
       "      <td>1</td>\n",
       "      <td>Comedy</td>\n",
       "      <td>Cuba</td>\n",
       "      <td>NaN</td>\n",
       "      <td>NaN</td>\n",
       "    </tr>\n",
       "    <tr>\n",
       "      <th>3</th>\n",
       "      <td>False</td>\n",
       "      <td>8223</td>\n",
       "      <td>Kika, a young cosmetologist, is called to the ...</td>\n",
       "      <td>3.647321</td>\n",
       "      <td>Kika</td>\n",
       "      <td>6.8</td>\n",
       "      <td>58.0</td>\n",
       "      <td>1993</td>\n",
       "      <td>10</td>\n",
       "      <td>Comedy</td>\n",
       "      <td>France</td>\n",
       "      <td>NaN</td>\n",
       "      <td>NaN</td>\n",
       "    </tr>\n",
       "    <tr>\n",
       "      <th>4</th>\n",
       "      <td>False</td>\n",
       "      <td>4307</td>\n",
       "      <td>Marisa Paredes is Leocadia (\"Leo\") Macias, a w...</td>\n",
       "      <td>2.286788</td>\n",
       "      <td>The Flower of My Secret</td>\n",
       "      <td>6.9</td>\n",
       "      <td>43.0</td>\n",
       "      <td>1995</td>\n",
       "      <td>9</td>\n",
       "      <td>Drama</td>\n",
       "      <td>Spain</td>\n",
       "      <td>Marisa Paredes</td>\n",
       "      <td>NaN</td>\n",
       "    </tr>\n",
       "    <tr>\n",
       "      <th>5</th>\n",
       "      <td>False</td>\n",
       "      <td>62364</td>\n",
       "      <td>For financial reasons an unemployed aspiring a...</td>\n",
       "      <td>1.133409</td>\n",
       "      <td>Mouth to Mouth</td>\n",
       "      <td>5.5</td>\n",
       "      <td>5.0</td>\n",
       "      <td>1995</td>\n",
       "      <td>11</td>\n",
       "      <td>Comedy</td>\n",
       "      <td>Spain</td>\n",
       "      <td>NaN</td>\n",
       "      <td>NaN</td>\n",
       "    </tr>\n",
       "    <tr>\n",
       "      <th>6</th>\n",
       "      <td>False</td>\n",
       "      <td>123763</td>\n",
       "      <td>A viceroy and an archbishop take their posts i...</td>\n",
       "      <td>0.202495</td>\n",
       "      <td>I, the Worst of All</td>\n",
       "      <td>6.8</td>\n",
       "      <td>3.0</td>\n",
       "      <td>1990</td>\n",
       "      <td>8</td>\n",
       "      <td>Drama</td>\n",
       "      <td>Argentina</td>\n",
       "      <td>NaN</td>\n",
       "      <td>María Luisa Bemberg</td>\n",
       "    </tr>\n",
       "    <tr>\n",
       "      <th>7</th>\n",
       "      <td>False</td>\n",
       "      <td>43777</td>\n",
       "      <td>A patriot (René Lavan) with a rebellious broth...</td>\n",
       "      <td>0.401227</td>\n",
       "      <td>Bitter Sugar</td>\n",
       "      <td>6.3</td>\n",
       "      <td>3.0</td>\n",
       "      <td>1996</td>\n",
       "      <td>2</td>\n",
       "      <td>Drama</td>\n",
       "      <td>United States of America</td>\n",
       "      <td>NaN</td>\n",
       "      <td>NaN</td>\n",
       "    </tr>\n",
       "    <tr>\n",
       "      <th>8</th>\n",
       "      <td>False</td>\n",
       "      <td>146341</td>\n",
       "      <td>NaN</td>\n",
       "      <td>0.564117</td>\n",
       "      <td>Bird of Prey</td>\n",
       "      <td>0.0</td>\n",
       "      <td>0.0</td>\n",
       "      <td>1995</td>\n",
       "      <td>9</td>\n",
       "      <td>Crime</td>\n",
       "      <td>United States of America</td>\n",
       "      <td>NaN</td>\n",
       "      <td>NaN</td>\n",
       "    </tr>\n",
       "    <tr>\n",
       "      <th>9</th>\n",
       "      <td>False</td>\n",
       "      <td>49688</td>\n",
       "      <td>Based on real events, 17-year-old Johnny Garcí...</td>\n",
       "      <td>0.149107</td>\n",
       "      <td>Johnny 100 Pesos</td>\n",
       "      <td>6.3</td>\n",
       "      <td>3.0</td>\n",
       "      <td>1993</td>\n",
       "      <td>1</td>\n",
       "      <td>Drama</td>\n",
       "      <td>Chile</td>\n",
       "      <td>NaN</td>\n",
       "      <td>NaN</td>\n",
       "    </tr>\n",
       "  </tbody>\n",
       "</table>\n",
       "</div>"
      ],
      "text/plain": [
       "   adult      id                                           overview  \\\n",
       "0  False   55475  Balbuena is a genial illegal immigrant who mak...   \n",
       "1  False   18183  Tita is passionately in love with Pedro, but h...   \n",
       "2  False   12527  Havana, Cuba, 1979. Flamboyantly gay artist Di...   \n",
       "3  False    8223  Kika, a young cosmetologist, is called to the ...   \n",
       "4  False    4307  Marisa Paredes is Leocadia (\"Leo\") Macias, a w...   \n",
       "5  False   62364  For financial reasons an unemployed aspiring a...   \n",
       "6  False  123763  A viceroy and an archbishop take their posts i...   \n",
       "7  False   43777  A patriot (René Lavan) with a rebellious broth...   \n",
       "8  False  146341                                                NaN   \n",
       "9  False   49688  Based on real events, 17-year-old Johnny Garcí...   \n",
       "\n",
       "   popularity                     title  vote_average  vote_count  \\\n",
       "0    0.291021                 Nueba Yol           5.5         1.0   \n",
       "1    4.126083  Like Water for Chocolate           6.6        70.0   \n",
       "2    1.777197  Strawberry and Chocolate           7.1        16.0   \n",
       "3    3.647321                      Kika           6.8        58.0   \n",
       "4    2.286788   The Flower of My Secret           6.9        43.0   \n",
       "5    1.133409            Mouth to Mouth           5.5         5.0   \n",
       "6    0.202495       I, the Worst of All           6.8         3.0   \n",
       "7    0.401227              Bitter Sugar           6.3         3.0   \n",
       "8    0.564117              Bird of Prey           0.0         0.0   \n",
       "9    0.149107          Johnny 100 Pesos           6.3         3.0   \n",
       "\n",
       "   release_year  release_month   genre                   country  \\\n",
       "0          1995              8  Comedy        Dominican Republic   \n",
       "1          1992              4   Drama                    Mexico   \n",
       "2          1993              1  Comedy                      Cuba   \n",
       "3          1993             10  Comedy                    France   \n",
       "4          1995              9   Drama                     Spain   \n",
       "5          1995             11  Comedy                     Spain   \n",
       "6          1990              8   Drama                 Argentina   \n",
       "7          1996              2   Drama  United States of America   \n",
       "8          1995              9   Crime  United States of America   \n",
       "9          1993              1   Drama                     Chile   \n",
       "\n",
       "   principal_cast             director  \n",
       "0             NaN          Ángel Muñiz  \n",
       "1             NaN                  NaN  \n",
       "2             NaN                  NaN  \n",
       "3             NaN                  NaN  \n",
       "4  Marisa Paredes                  NaN  \n",
       "5             NaN                  NaN  \n",
       "6             NaN  María Luisa Bemberg  \n",
       "7             NaN                  NaN  \n",
       "8             NaN                  NaN  \n",
       "9             NaN                  NaN  "
      ]
     },
     "execution_count": 3,
     "metadata": {},
     "output_type": "execute_result"
    }
   ],
   "source": [
    "df_movies_produccion.head(10)"
   ]
  },
  {
   "cell_type": "code",
   "execution_count": 4,
   "metadata": {},
   "outputs": [],
   "source": [
    "# Primero tengo que convertir la columna release_month (que está el mes en número) a nombre del mes\n",
    "\n",
    "# Con este diccionario mapeeo los números de los meses a nombres en español\n",
    "meses = {\n",
    "    1: 'enero', 2: 'febrero', 3: 'marzo', 4: 'abril', \n",
    "    5: 'mayo', 6: 'junio', 7: 'julio', 8: 'agosto', \n",
    "    9: 'septiembre', 10: 'octubre', 11: 'noviembre', 12: 'diciembre'\n",
    "}\n",
    "\n",
    "# Creo una nueva columna con los nombres de los meses\n",
    "df_movies_produccion['release_month_name'] = df_movies_produccion['release_month'].map(meses)\n",
    "\n",
    "# Elimino la columna release_month pues ya no la usare\n",
    "df_movies_produccion = df_movies_produccion.drop(columns=['release_month'])\n",
    "    "
   ]
  },
  {
   "cell_type": "code",
   "execution_count": 5,
   "metadata": {},
   "outputs": [],
   "source": [
    "def cantidad_filmaciones_mes(df):\n",
    "    # Armo una lista de meses válidos en español para que luego me avierta si lo ingresado no es un mes\n",
    "    meses_validos = [\n",
    "        'enero', 'febrero', 'marzo', 'abril', \n",
    "        'mayo', 'junio', 'julio', 'agosto', \n",
    "        'septiembre', 'octubre', 'noviembre', 'diciembre'\n",
    "    ]\n",
    "    \n",
    "    # Solicito al usuario que ingrese un mes\n",
    "    mes = input(\"Por favor, ingrese un mes en español para saber cuántas películas fueron estrenadas en esa fecha: \").strip().lower()\n",
    "    \n",
    "    # Verifico si el mes ingresado es válido\n",
    "    if mes not in meses_validos:\n",
    "        return f\"El mes '{mes}' no es válido. Por favor, ingresa un mes correcto.\"\n",
    "    \n",
    "    # Cuento las películas estrenadas en el mes especificado\n",
    "    cantidad = df[df['release_month_name'].str.lower() == mes].shape[0]\n",
    "    \n",
    "    return f\"{cantidad} películas fueron estrenadas en el mes de {mes}.\""
   ]
  },
  {
   "cell_type": "code",
   "execution_count": 6,
   "metadata": {},
   "outputs": [
    {
     "data": {
      "text/plain": [
       "'97 películas fueron estrenadas en el mes de abril.'"
      ]
     },
     "execution_count": 6,
     "metadata": {},
     "output_type": "execute_result"
    }
   ],
   "source": [
    "# Uso la función\n",
    "cantidad_filmaciones_mes(df_movies_produccion)"
   ]
  },
  {
   "cell_type": "markdown",
   "metadata": {},
   "source": [
    "##### FUNCIÓN INGRESAR TÍTULO Y RECIBIR AÑO DE ESTRENO Y POPULARIDAD\n",
    "\n",
    "Creo la función def score_titulo( titulo_de_la_filmación ): \n",
    "\n",
    "Se ingresa el título de una filmación esperando como respuesta el título, el año de estreno y el score.\n",
    "\n",
    "Ejemplo de retorno: La película X fue estrenada en el año X con un score/popularidad de X\n"
   ]
  },
  {
   "cell_type": "code",
   "execution_count": 54,
   "metadata": {},
   "outputs": [
    {
     "data": {
      "text/plain": [
       "Index(['adult', 'id', 'overview', 'popularity', 'title', 'vote_average',\n",
       "       'vote_count', 'release_year', 'genre', 'country', 'principal_cast',\n",
       "       'director', 'release_month_name'],\n",
       "      dtype='object')"
      ]
     },
     "execution_count": 54,
     "metadata": {},
     "output_type": "execute_result"
    }
   ],
   "source": [
    "df_movies_produccion.columns"
   ]
  },
  {
   "cell_type": "code",
   "execution_count": 62,
   "metadata": {},
   "outputs": [],
   "source": [
    "\n",
    "def score_titulo(df):\n",
    "    # Solicito al usuario que ingrese el título de la película\n",
    "    titulo = input(\"Por favor, ingresa el título de una película de habla hispana: \").strip().lower()\n",
    "    \n",
    "    # Filtro el dataframe para encontrar la película por título\n",
    "    pelicula = df[df['title'].str.lower() == titulo]\n",
    "    \n",
    "    # Advierto si no encuentra la película\n",
    "    if pelicula.empty:\n",
    "        return f\"No se encontró ninguna película con el título '{titulo}'.\"\n",
    "    \n",
    "    # Obtengo los datos de la película\n",
    "    titulo_pelicula = pelicula['title'].values[0]\n",
    "    año_estreno = pelicula['release_year'].values[0]\n",
    "    score = pelicula['popularity'].values[0]\n",
    "    \n",
    "    return f\"La película '{titulo_pelicula}' fue estrenada en el año {año_estreno} con un score/popularidad de {score}.\"\n",
    "\n"
   ]
  },
  {
   "cell_type": "code",
   "execution_count": 63,
   "metadata": {},
   "outputs": [
    {
     "data": {
      "text/plain": [
       "\"La película 'Like Water for Chocolate' fue estrenada en el año 1992 con un score/popularidad de 4.126083.\""
      ]
     },
     "execution_count": 63,
     "metadata": {},
     "output_type": "execute_result"
    }
   ],
   "source": [
    "# Uso la función\n",
    "score_titulo(df_movies_produccion)"
   ]
  },
  {
   "cell_type": "markdown",
   "metadata": {},
   "source": [
    "##### FUNCIÓN INGRESAR TÍTULO Y RECIBIR PROMEDIO VOTACIONES\n",
    "\n",
    "Creo la función def votos_titulo( titulo_de_la_filmación )\n",
    "\n",
    "Se ingresa el título de una filmación esperando como respuesta el título, la cantidad de votos y el valor promedio de las votaciones. \n",
    "\n",
    "La misma variable deberá de contar con al menos 2000 valoraciones, caso contrario, debemos contar con un mensaje avisando que no cumple esta condición y que por ende, no se devuelve ningún valor.\n",
    "\n",
    "Ejemplo de retorno: La película X fue estrenada en el año X. La misma cuenta con un total de X valoraciones, con un promedio de X\n"
   ]
  },
  {
   "cell_type": "code",
   "execution_count": 78,
   "metadata": {},
   "outputs": [
    {
     "name": "stdout",
     "output_type": "stream",
     "text": [
      "Media: 31.892028254288597\n",
      "Mediana: 8.0\n",
      "Moda: 1.0\n"
     ]
    }
   ],
   "source": [
    "# Exploro media, mediana y moda para encontrar mi filtro a la hora de considerar qué películas consiederar\n",
    "# La consiga ponía ese filtro en 2000 valoraciones, pero mi dataset es de apenas 1000 peliculas\n",
    "# Elijo las películas que tengan más de 10 valoraciones, es decir un poco más arriba de la mediana, para que entre casi la mitad de las peliculas del dataet\n",
    "\n",
    "media = df_movies_produccion['vote_count'].mean()\n",
    "mediana = df_movies_produccion['vote_count'].median()\n",
    "moda = df_movies_produccion['vote_count'].mode()[0]\n",
    "\n",
    "print(f\"Media: {media}\")\n",
    "print(f\"Mediana: {mediana}\")\n",
    "print(f\"Moda: {moda}\")"
   ]
  },
  {
   "cell_type": "code",
   "execution_count": 81,
   "metadata": {},
   "outputs": [],
   "source": [
    "def votos_titulo(df):\n",
    "    # Solicito al usuario que ingrese el título de la película\n",
    "    titulo = input(\"Por favor, ingresa el título de una película de habla hispana: \").strip().lower()\n",
    "    \n",
    "    # Filtro el dataframe para encontrar la película por título\n",
    "    pelicula = df[df['title'].str.lower() == titulo]\n",
    "    \n",
    "    # Advierto si no encuentra la película\n",
    "    if pelicula.empty:\n",
    "        return f\"No se encontró ninguna película con el título '{titulo}'.\"\n",
    "    \n",
    "    # Obtengo los datos de la película\n",
    "    titulo_pelicula = pelicula['title'].values[0]\n",
    "    cantidad_votos = pelicula['vote_count'].values[0]\n",
    "    \n",
    "    # Verifico si la cantidad de votos es menor a 10\n",
    "    if cantidad_votos < 10:\n",
    "        return f\"La película '{titulo_pelicula}' no cuenta con la siguiente cantidad de valoraciones para ser considerada.\"\n",
    "    \n",
    "    promedio_votos = pelicula['vote_average'].values[0]\n",
    "    \n",
    "    return f\"La película '{titulo_pelicula}' recibió {cantidad_votos} votos y su promedio de valoración fue de {promedio_votos}.\"\n",
    "\n"
   ]
  },
  {
   "cell_type": "code",
   "execution_count": 84,
   "metadata": {},
   "outputs": [
    {
     "data": {
      "text/plain": [
       "\"La película 'Nueba Yol' no cuenta con la siguiente cantidad de valoraciones para ser considerada.\""
      ]
     },
     "execution_count": 84,
     "metadata": {},
     "output_type": "execute_result"
    }
   ],
   "source": [
    "# Uso la función\n",
    "votos_titulo(df_movies_produccion)"
   ]
  },
  {
   "cell_type": "markdown",
   "metadata": {},
   "source": []
  }
 ],
 "metadata": {
  "kernelspec": {
   "display_name": "Python 3",
   "language": "python",
   "name": "python3"
  },
  "language_info": {
   "codemirror_mode": {
    "name": "ipython",
    "version": 3
   },
   "file_extension": ".py",
   "mimetype": "text/x-python",
   "name": "python",
   "nbconvert_exporter": "python",
   "pygments_lexer": "ipython3",
   "version": "3.12.6"
  }
 },
 "nbformat": 4,
 "nbformat_minor": 2
}
